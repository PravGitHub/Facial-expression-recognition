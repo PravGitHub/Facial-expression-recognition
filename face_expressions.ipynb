{
 "cells": [
  {
   "cell_type": "code",
   "execution_count": 0,
   "metadata": {
    "colab": {},
    "colab_type": "code",
    "id": "o8HRLoRYQUOE"
   },
   "outputs": [],
   "source": [
    "import keras\n",
    "from keras import layers\n",
    "from keras import models\n",
    "from keras.utils import to_categorical\n",
    "import pandas as pd\n",
    "import numpy as np\n",
    "from tensorflow.python.keras.preprocessing.image import load_img, img_to_array\n",
    "import os\n",
    "from os.path import join\n",
    "import cv2\n",
    "import tensorflow as tf\n",
    "from cv2 import resize"
   ]
  },
  {
   "cell_type": "code",
   "execution_count": 0,
   "metadata": {
    "colab": {},
    "colab_type": "code",
    "id": "2jd5AxkPQUOV"
   },
   "outputs": [],
   "source": [
    "import requests\n",
    "import io\n",
    "\n",
    "url=\"\" #-----Enter the url of the data here before executing\n",
    "x=requests.get(url).content\n",
    "labels=pd.read_csv(io.StringIO(x.decode('utf-8')),error_bad_lines=False)"
   ]
  },
  {
   "cell_type": "code",
   "execution_count": 104,
   "metadata": {
    "colab": {
     "base_uri": "https://localhost:8080/",
     "height": 34
    },
    "colab_type": "code",
    "id": "hIFQQq-g73oQ",
    "outputId": "08da05be-4412-441a-b662-354c8ff30311"
   },
   "outputs": [
    {
     "data": {
      "text/plain": [
       "28709"
      ]
     },
     "execution_count": 104,
     "metadata": {
      "tags": []
     },
     "output_type": "execute_result"
    }
   ],
   "source": [
    "len(labels)"
   ]
  },
  {
   "cell_type": "code",
   "execution_count": 0,
   "metadata": {
    "colab": {},
    "colab_type": "code",
    "id": "7Ee_EnYB3CaA"
   },
   "outputs": [],
   "source": [
    "from PIL import Image\n",
    "\n",
    "image_data = []\n",
    "for i in range(len(labels)):\n",
    "    lab=labels['pixels'][i].split(' ')\n",
    "    var = [float(i) for i in lab]\n",
    "    image_data.append(var)\n"
   ]
  },
  {
   "cell_type": "code",
   "execution_count": 0,
   "metadata": {
    "colab": {},
    "colab_type": "code",
    "id": "IMeiPh93Akp5"
   },
   "outputs": [],
   "source": [
    "train_images=np.array(image_data)\n"
   ]
  },
  {
   "cell_type": "code",
   "execution_count": 127,
   "metadata": {
    "colab": {
     "base_uri": "https://localhost:8080/",
     "height": 34
    },
    "colab_type": "code",
    "id": "_98j5vHS7c-M",
    "outputId": "b0eaa6a0-6e4d-45bf-ffa9-fbe15a6852f8"
   },
   "outputs": [
    {
     "data": {
      "text/plain": [
       "(28709, 48, 48, 1)"
      ]
     },
     "execution_count": 127,
     "metadata": {
      "tags": []
     },
     "output_type": "execute_result"
    }
   ],
   "source": [
    "\n",
    "train_images=train_images.reshape((28709,48,48,1))\n",
    "train_images.shape"
   ]
  },
  {
   "cell_type": "code",
   "execution_count": 0,
   "metadata": {
    "colab": {},
    "colab_type": "code",
    "id": "tadQO_3u8rJM"
   },
   "outputs": [],
   "source": [
    "train_images = train_images / 255\n"
   ]
  },
  {
   "cell_type": "code",
   "execution_count": null,
   "metadata": {
    "colab": {
     "base_uri": "https://localhost:8080/",
     "height": 34
    },
    "colab_type": "code",
    "id": "GpTftcKzQUOo",
    "outputId": "93ce1930-2e22-48f6-f70c-e87cfd7a41d9"
   },
   "outputs": [],
   "source": [
    "#----Converting the labels\n",
    "train_labels = to_categorical(labels['emotion'])\n"
   ]
  },
  {
   "cell_type": "code",
   "execution_count": 140,
   "metadata": {
    "colab": {
     "base_uri": "https://localhost:8080/",
     "height": 493
    },
    "colab_type": "code",
    "id": "nCv-bvJMQUPp",
    "outputId": "378393ea-904c-4481-cffb-f18a74c4f43e"
   },
   "outputs": [
    {
     "name": "stdout",
     "output_type": "stream",
     "text": [
      "Model: \"sequential_11\"\n",
      "_________________________________________________________________\n",
      "Layer (type)                 Output Shape              Param #   \n",
      "=================================================================\n",
      "conv2d_38 (Conv2D)           (None, 46, 46, 32)        320       \n",
      "_________________________________________________________________\n",
      "max_pooling2d_37 (MaxPooling (None, 23, 23, 32)        0         \n",
      "_________________________________________________________________\n",
      "conv2d_39 (Conv2D)           (None, 21, 21, 64)        18496     \n",
      "_________________________________________________________________\n",
      "max_pooling2d_38 (MaxPooling (None, 10, 10, 64)        0         \n",
      "_________________________________________________________________\n",
      "conv2d_40 (Conv2D)           (None, 8, 8, 128)         73856     \n",
      "_________________________________________________________________\n",
      "max_pooling2d_39 (MaxPooling (None, 4, 4, 128)         0         \n",
      "_________________________________________________________________\n",
      "flatten_8 (Flatten)          (None, 2048)              0         \n",
      "_________________________________________________________________\n",
      "dense_17 (Dense)             (None, 2048)              4196352   \n",
      "_________________________________________________________________\n",
      "dense_18 (Dense)             (None, 512)               1049088   \n",
      "_________________________________________________________________\n",
      "dense_19 (Dense)             (None, 7)                 3591      \n",
      "=================================================================\n",
      "Total params: 5,341,703\n",
      "Trainable params: 5,341,703\n",
      "Non-trainable params: 0\n",
      "_________________________________________________________________\n"
     ]
    }
   ],
   "source": [
    "#---creating model\n",
    "model = models.Sequential()\n",
    "model.add(layers.Conv2D(32,(3,3),activation='relu', input_shape=(48,48,1)))\n",
    "model.add(layers.MaxPooling2D((2,2)))\n",
    "model.add(layers.Conv2D(64,(3,3), activation='relu'))\n",
    "model.add(layers.MaxPooling2D((2,2)))\n",
    "model.add(layers.Conv2D(128, (3,3), activation='relu'))\n",
    "model.add(layers.MaxPooling2D((2,2)))\n",
    "#model.add(layers.Conv2D(256, (3,3), activation='relu'))\n",
    "#model.add(layers.MaxPooling2D((2,2)))\n",
    "\n",
    "model.add(layers.Flatten())\n",
    "model.add(layers.Dense(2048, activation = 'relu'))\n",
    "model.add(layers.Dense(512, activation = 'relu'))\n",
    "model.add(layers.Dense(7, activation='softmax'))\n",
    "model.summary()"
   ]
  },
  {
   "cell_type": "code",
   "execution_count": 141,
   "metadata": {
    "colab": {
     "base_uri": "https://localhost:8080/",
     "height": 374
    },
    "colab_type": "code",
    "id": "NpTqbrluQUPw",
    "outputId": "df604792-5c6c-44fa-c6e6-910b77d82d1b"
   },
   "outputs": [
    {
     "name": "stdout",
     "output_type": "stream",
     "text": [
      "Epoch 1/10\n",
      "23000/23000 [==============================] - 109s 5ms/step - loss: 1.7166 - acc: 0.3112\n",
      "Epoch 2/10\n",
      "23000/23000 [==============================] - 110s 5ms/step - loss: 1.4615 - acc: 0.4373\n",
      "Epoch 3/10\n",
      "23000/23000 [==============================] - 113s 5ms/step - loss: 1.3268 - acc: 0.4944\n",
      "Epoch 4/10\n",
      "23000/23000 [==============================] - 111s 5ms/step - loss: 1.2404 - acc: 0.5296\n",
      "Epoch 5/10\n",
      "23000/23000 [==============================] - 111s 5ms/step - loss: 1.1691 - acc: 0.5546\n",
      "Epoch 6/10\n",
      "23000/23000 [==============================] - 111s 5ms/step - loss: 1.1183 - acc: 0.5786\n",
      "Epoch 7/10\n",
      "23000/23000 [==============================] - 111s 5ms/step - loss: 1.0721 - acc: 0.5980\n",
      "Epoch 8/10\n",
      "23000/23000 [==============================] - 110s 5ms/step - loss: 1.0288 - acc: 0.6167\n",
      "Epoch 9/10\n",
      "23000/23000 [==============================] - 111s 5ms/step - loss: 1.0096 - acc: 0.6300\n",
      "Epoch 10/10\n",
      "23000/23000 [==============================] - 111s 5ms/step - loss: 1.0144 - acc: 0.6335\n"
     ]
    },
    {
     "data": {
      "text/plain": [
       "<keras.callbacks.History at 0x7f36cf1fd0f0>"
      ]
     },
     "execution_count": 141,
     "metadata": {
      "tags": []
     },
     "output_type": "execute_result"
    }
   ],
   "source": [
    "from keras import optimizers\n",
    "\n",
    "opt = optimizers.RMSprop(lr=0.001, decay=1e-6)\n",
    "model.compile(optimizer=opt,\n",
    "              loss='categorical_crossentropy',\n",
    "              metrics=['accuracy'])\n",
    "model.fit(train_images[:23000], train_labels[:23000], epochs=10, batch_size=64)"
   ]
  },
  {
   "cell_type": "code",
   "execution_count": 142,
   "metadata": {
    "colab": {
     "base_uri": "https://localhost:8080/",
     "height": 51
    },
    "colab_type": "code",
    "id": "aGVqOA92QUP3",
    "outputId": "b8dc7719-a249-46bb-ae76-5aac3cb531d9"
   },
   "outputs": [
    {
     "name": "stdout",
     "output_type": "stream",
     "text": [
      "5709/5709 [==============================] - 7s 1ms/step\n"
     ]
    },
    {
     "data": {
      "text/plain": [
       "0.5384480644857264"
      ]
     },
     "execution_count": 142,
     "metadata": {
      "tags": []
     },
     "output_type": "execute_result"
    }
   ],
   "source": [
    "test_loss, test_acc = model.evaluate(train_images[23000:], train_labels[23000:])\n",
    "\n",
    "test_acc\n"
   ]
  }
 ],
 "metadata": {
  "accelerator": "TPU",
  "colab": {
   "name": "face_expressions.ipynb",
   "provenance": [],
   "toc_visible": true
  },
  "kernelspec": {
   "display_name": "Python 3",
   "language": "python",
   "name": "python3"
  },
  "language_info": {
   "codemirror_mode": {
    "name": "ipython",
    "version": 3
   },
   "file_extension": ".py",
   "mimetype": "text/x-python",
   "name": "python",
   "nbconvert_exporter": "python",
   "pygments_lexer": "ipython3",
   "version": "3.7.5"
  }
 },
 "nbformat": 4,
 "nbformat_minor": 1
}
